{
  "cells": [
    {
      "cell_type": "markdown",
      "metadata": {
        "id": "7OMe_gfW5lVs"
      },
      "source": [
        "# Modelo simple\n",
        "\n",
        "En este notebook van a encontrar un modelo de ML simple para clasificar especies de iris.\n",
        "\n",
        "Lo utilizaremos para aprender a pasar de jupyter notebooks (.ipynb) a archivos .py\n",
        "\n",
        "Durante el proceso utilizaremos git para controlar versiones.\n",
        "\n",
        "Los datos pueden encontrarlos en: https://gist.githubusercontent.com/netj/8836201/raw/6f9306ad21398ea43cba4f7d537619d0e07d5ae3/iris.csv"
      ]
    },
    {
      "cell_type": "markdown",
      "metadata": {
        "id": "Jmz72p4l8pMc"
      },
      "source": [
        "Con el siguiente comando podemos descargar el dataset:"
      ]
    },
    {
      "cell_type": "code",
      "execution_count": null,
      "metadata": {
        "colab": {
          "base_uri": "https://localhost:8080/"
        },
        "id": "lrQSMCdd-G9X",
        "outputId": "6f8f8408-1684-4511-fd65-e7e3c2f2b8ae"
      },
      "outputs": [
        {
          "name": "stdout",
          "output_type": "stream",
          "text": [
            "  % Total    % Received % Xferd  Average Speed   Time    Time     Time  Current\n",
            "                                 Dload  Upload   Total   Spent    Left  Speed\n",
            "\r  0     0    0     0    0     0      0      0 --:--:-- --:--:-- --:--:--     0\r100  3975  100  3975    0     0  25158      0 --:--:-- --:--:-- --:--:-- 25158\n"
          ]
        }
      ],
      "source": [
        "!curl -o \"iris.csv\" \"https://gist.githubusercontent.com/netj/8836201/raw/6f9306ad21398ea43cba4f7d537619d0e07d5ae3/iris.csv\""
      ]
    },
    {
      "cell_type": "markdown",
      "metadata": {
        "id": "2aLazYMB_CEi"
      },
      "source": [
        "EJERCICIO: Correr el comando en una terminal (local)."
      ]
    },
    {
      "cell_type": "markdown",
      "metadata": {
        "id": "mix9n3CrOGhC"
      },
      "source": [
        "Ahora, leemos el dataset con pandas y entrenamos un modelo de clasificación (muy simple, sin nada de pre procesamiento)"
      ]
    },
    {
      "cell_type": "code",
      "execution_count": null,
      "metadata": {
        "id": "A7UJZlZs8zG-"
      },
      "outputs": [],
      "source": [
        "import pandas as pd"
      ]
    },
    {
      "cell_type": "code",
      "execution_count": null,
      "metadata": {
        "id": "UuGWzp8ZOMSA"
      },
      "outputs": [],
      "source": [
        "df = pd.read_csv(\"/content/iris.csv\")"
      ]
    },
    {
      "cell_type": "code",
      "execution_count": null,
      "metadata": {
        "colab": {
          "base_uri": "https://localhost:8080/",
          "height": 206
        },
        "id": "TdaCJBr3OQAZ",
        "outputId": "bf1fac9c-cb42-49ea-b1d4-02c8a7cb6fc9"
      },
      "outputs": [
        {
          "data": {
            "text/html": [
              "\n",
              "  <div id=\"df-8a18650d-772e-4e9d-a401-2773d045eacb\">\n",
              "    <div class=\"colab-df-container\">\n",
              "      <div>\n",
              "<style scoped>\n",
              "    .dataframe tbody tr th:only-of-type {\n",
              "        vertical-align: middle;\n",
              "    }\n",
              "\n",
              "    .dataframe tbody tr th {\n",
              "        vertical-align: top;\n",
              "    }\n",
              "\n",
              "    .dataframe thead th {\n",
              "        text-align: right;\n",
              "    }\n",
              "</style>\n",
              "<table border=\"1\" class=\"dataframe\">\n",
              "  <thead>\n",
              "    <tr style=\"text-align: right;\">\n",
              "      <th></th>\n",
              "      <th>sepal.length</th>\n",
              "      <th>sepal.width</th>\n",
              "      <th>petal.length</th>\n",
              "      <th>petal.width</th>\n",
              "      <th>variety</th>\n",
              "    </tr>\n",
              "  </thead>\n",
              "  <tbody>\n",
              "    <tr>\n",
              "      <th>0</th>\n",
              "      <td>5.1</td>\n",
              "      <td>3.5</td>\n",
              "      <td>1.4</td>\n",
              "      <td>0.2</td>\n",
              "      <td>Setosa</td>\n",
              "    </tr>\n",
              "    <tr>\n",
              "      <th>1</th>\n",
              "      <td>4.9</td>\n",
              "      <td>3.0</td>\n",
              "      <td>1.4</td>\n",
              "      <td>0.2</td>\n",
              "      <td>Setosa</td>\n",
              "    </tr>\n",
              "    <tr>\n",
              "      <th>2</th>\n",
              "      <td>4.7</td>\n",
              "      <td>3.2</td>\n",
              "      <td>1.3</td>\n",
              "      <td>0.2</td>\n",
              "      <td>Setosa</td>\n",
              "    </tr>\n",
              "    <tr>\n",
              "      <th>3</th>\n",
              "      <td>4.6</td>\n",
              "      <td>3.1</td>\n",
              "      <td>1.5</td>\n",
              "      <td>0.2</td>\n",
              "      <td>Setosa</td>\n",
              "    </tr>\n",
              "    <tr>\n",
              "      <th>4</th>\n",
              "      <td>5.0</td>\n",
              "      <td>3.6</td>\n",
              "      <td>1.4</td>\n",
              "      <td>0.2</td>\n",
              "      <td>Setosa</td>\n",
              "    </tr>\n",
              "  </tbody>\n",
              "</table>\n",
              "</div>\n",
              "      <button class=\"colab-df-convert\" onclick=\"convertToInteractive('df-8a18650d-772e-4e9d-a401-2773d045eacb')\"\n",
              "              title=\"Convert this dataframe to an interactive table.\"\n",
              "              style=\"display:none;\">\n",
              "        \n",
              "  <svg xmlns=\"http://www.w3.org/2000/svg\" height=\"24px\"viewBox=\"0 0 24 24\"\n",
              "       width=\"24px\">\n",
              "    <path d=\"M0 0h24v24H0V0z\" fill=\"none\"/>\n",
              "    <path d=\"M18.56 5.44l.94 2.06.94-2.06 2.06-.94-2.06-.94-.94-2.06-.94 2.06-2.06.94zm-11 1L8.5 8.5l.94-2.06 2.06-.94-2.06-.94L8.5 2.5l-.94 2.06-2.06.94zm10 10l.94 2.06.94-2.06 2.06-.94-2.06-.94-.94-2.06-.94 2.06-2.06.94z\"/><path d=\"M17.41 7.96l-1.37-1.37c-.4-.4-.92-.59-1.43-.59-.52 0-1.04.2-1.43.59L10.3 9.45l-7.72 7.72c-.78.78-.78 2.05 0 2.83L4 21.41c.39.39.9.59 1.41.59.51 0 1.02-.2 1.41-.59l7.78-7.78 2.81-2.81c.8-.78.8-2.07 0-2.86zM5.41 20L4 18.59l7.72-7.72 1.47 1.35L5.41 20z\"/>\n",
              "  </svg>\n",
              "      </button>\n",
              "      \n",
              "  <style>\n",
              "    .colab-df-container {\n",
              "      display:flex;\n",
              "      flex-wrap:wrap;\n",
              "      gap: 12px;\n",
              "    }\n",
              "\n",
              "    .colab-df-convert {\n",
              "      background-color: #E8F0FE;\n",
              "      border: none;\n",
              "      border-radius: 50%;\n",
              "      cursor: pointer;\n",
              "      display: none;\n",
              "      fill: #1967D2;\n",
              "      height: 32px;\n",
              "      padding: 0 0 0 0;\n",
              "      width: 32px;\n",
              "    }\n",
              "\n",
              "    .colab-df-convert:hover {\n",
              "      background-color: #E2EBFA;\n",
              "      box-shadow: 0px 1px 2px rgba(60, 64, 67, 0.3), 0px 1px 3px 1px rgba(60, 64, 67, 0.15);\n",
              "      fill: #174EA6;\n",
              "    }\n",
              "\n",
              "    [theme=dark] .colab-df-convert {\n",
              "      background-color: #3B4455;\n",
              "      fill: #D2E3FC;\n",
              "    }\n",
              "\n",
              "    [theme=dark] .colab-df-convert:hover {\n",
              "      background-color: #434B5C;\n",
              "      box-shadow: 0px 1px 3px 1px rgba(0, 0, 0, 0.15);\n",
              "      filter: drop-shadow(0px 1px 2px rgba(0, 0, 0, 0.3));\n",
              "      fill: #FFFFFF;\n",
              "    }\n",
              "  </style>\n",
              "\n",
              "      <script>\n",
              "        const buttonEl =\n",
              "          document.querySelector('#df-8a18650d-772e-4e9d-a401-2773d045eacb button.colab-df-convert');\n",
              "        buttonEl.style.display =\n",
              "          google.colab.kernel.accessAllowed ? 'block' : 'none';\n",
              "\n",
              "        async function convertToInteractive(key) {\n",
              "          const element = document.querySelector('#df-8a18650d-772e-4e9d-a401-2773d045eacb');\n",
              "          const dataTable =\n",
              "            await google.colab.kernel.invokeFunction('convertToInteractive',\n",
              "                                                     [key], {});\n",
              "          if (!dataTable) return;\n",
              "\n",
              "          const docLinkHtml = 'Like what you see? Visit the ' +\n",
              "            '<a target=\"_blank\" href=https://colab.research.google.com/notebooks/data_table.ipynb>data table notebook</a>'\n",
              "            + ' to learn more about interactive tables.';\n",
              "          element.innerHTML = '';\n",
              "          dataTable['output_type'] = 'display_data';\n",
              "          await google.colab.output.renderOutput(dataTable, element);\n",
              "          const docLink = document.createElement('div');\n",
              "          docLink.innerHTML = docLinkHtml;\n",
              "          element.appendChild(docLink);\n",
              "        }\n",
              "      </script>\n",
              "    </div>\n",
              "  </div>\n",
              "  "
            ],
            "text/plain": [
              "   sepal.length  sepal.width  petal.length  petal.width variety\n",
              "0           5.1          3.5           1.4          0.2  Setosa\n",
              "1           4.9          3.0           1.4          0.2  Setosa\n",
              "2           4.7          3.2           1.3          0.2  Setosa\n",
              "3           4.6          3.1           1.5          0.2  Setosa\n",
              "4           5.0          3.6           1.4          0.2  Setosa"
            ]
          },
          "execution_count": 7,
          "metadata": {},
          "output_type": "execute_result"
        }
      ],
      "source": [
        "df.head()"
      ]
    },
    {
      "cell_type": "markdown",
      "metadata": {
        "id": "_BvBQ8WfOyl9"
      },
      "source": [
        "Separamos en X e y"
      ]
    },
    {
      "cell_type": "code",
      "execution_count": null,
      "metadata": {
        "id": "X6EgM_MyORQO"
      },
      "outputs": [],
      "source": [
        "X = df.drop(\"variety\", axis=1).values.copy()\n",
        "y = df.variety.copy()"
      ]
    },
    {
      "cell_type": "markdown",
      "metadata": {
        "id": "1tnC0HbpOz84"
      },
      "source": [
        "Instanciamos el modelo"
      ]
    },
    {
      "cell_type": "code",
      "execution_count": null,
      "metadata": {
        "id": "Raq2vYeXOX2m"
      },
      "outputs": [],
      "source": [
        "from sklearn.ensemble import RandomForestClassifier\n",
        "\n",
        "clf = RandomForestClassifier(max_depth=2)"
      ]
    },
    {
      "cell_type": "markdown",
      "metadata": {
        "id": "alQhLQnrO3A9"
      },
      "source": [
        "Lo entrenamos"
      ]
    },
    {
      "cell_type": "code",
      "execution_count": null,
      "metadata": {
        "colab": {
          "base_uri": "https://localhost:8080/"
        },
        "id": "d61_mvXEO4VO",
        "outputId": "6bd514b0-9e8e-44f3-f527-6d9fa51feaeb"
      },
      "outputs": [
        {
          "data": {
            "text/plain": [
              "RandomForestClassifier(max_depth=2)"
            ]
          },
          "execution_count": 24,
          "metadata": {},
          "output_type": "execute_result"
        }
      ],
      "source": [
        "\n",
        "clf.fit(X, y)"
      ]
    },
    {
      "cell_type": "code",
      "execution_count": null,
      "metadata": {
        "colab": {
          "base_uri": "https://localhost:8080/"
        },
        "id": "pd8KsR6mOlyJ",
        "outputId": "47eee1c6-844b-4c7d-c679-184065f4b500"
      },
      "outputs": [
        {
          "data": {
            "text/plain": [
              "0.9666666666666667"
            ]
          },
          "execution_count": 25,
          "metadata": {},
          "output_type": "execute_result"
        }
      ],
      "source": [
        "clf.score(X, y)"
      ]
    },
    {
      "cell_type": "markdown",
      "metadata": {
        "id": "S1OZ7wfOO5ZQ"
      },
      "source": [
        "Y para predecir:"
      ]
    },
    {
      "cell_type": "code",
      "execution_count": null,
      "metadata": {
        "colab": {
          "base_uri": "https://localhost:8080/"
        },
        "id": "z1jfy0SvO69R",
        "outputId": "fb9f4e7f-8843-4aec-b142-1c335f2f4f2b"
      },
      "outputs": [
        {
          "data": {
            "text/plain": [
              "array(['Setosa'], dtype=object)"
            ]
          },
          "execution_count": 26,
          "metadata": {},
          "output_type": "execute_result"
        }
      ],
      "source": [
        "clf.predict([[0.5, 0.5, 0.5, 0.5]])"
      ]
    },
    {
      "cell_type": "markdown",
      "metadata": {
        "id": "Y-gQCBbxPK0D"
      },
      "source": [
        "Ahora la idea es llevar esto a un script de python. Primero que nada, vamos a crear un repositorio vacío en github. Luego:\n",
        "\n",
        "1. Crear nuevo proyecto de python (pycharm, visual studio code o algún IDE)\n",
        "2. Crear el primer commit del proyecto y pushearlo\n",
        "3. Correr el script main.py:\n",
        "\n",
        "```\n",
        "# This is a sample Python script.\n",
        "\n",
        "def print_hi(name):\n",
        "    # Use a breakpoint in the code line below to debug your script.\n",
        "    print(f'Hi, {name}')  # Press Ctrl+F8 to toggle the breakpoint.\n",
        "\n",
        "\n",
        "if __name__ == '__main__':\n",
        "    print_hi('PyCharm')\n",
        "\n",
        "```\n",
        "\n",
        "4. Probar pdb (debugger) en la función print_hi(name)\n",
        "\n",
        "5. Crear una nueva rama (puede llamarse por ejemplo \"iris_model\" y moverse a la misma.\n",
        "\n",
        "6. Crear el archivo requirements.txt:\n",
        "\n",
        "\n",
        "\n",
        "```\n",
        "requests\n",
        "pandas\n",
        "sklearn\n",
        "```\n",
        "\n",
        "7. Instalar las dependencias: pip install -r requirements.txt\n",
        "\n",
        "8. Crear los directorios \"ml\" y \"data\" en el proyecto. Dentro de \"ml\" crear los archivos:\n",
        "- \\_\\_init__.py\n",
        "- model.py\n",
        "\n",
        "Dentro de \"data\" crear los archivos:\n",
        "- get_data.py\n",
        "- \\_\\_init__.py\n",
        "\n",
        "9. Crear el archivo .gitignore para ignorar lo que termine en .csv\n",
        "\n",
        "10. Hacer un commit y push con estos archivos vacios\n",
        "\n",
        "11. En el script get_data.py: \n",
        "\n",
        "```\n",
        "import requests\n",
        "\n",
        "\n",
        "url = 'https://gist.githubusercontent.com/netj/8836201/raw/6f9306ad21398ea43cba4f7d537619d0e07d5ae3/iris.csv'\n",
        "r = requests.get(url)\n",
        "\n",
        "open('./data/iris.csv', 'wb').write(r.content)\n",
        "```\n",
        "\n",
        "Esto nos debería descargar el archivo csv. Este archivo no se debe subir al repositorio (no es una buena práctica), por esto lo ponemos en el .gitignore.\n",
        "\n",
        "12. Ahora, en model.py debemos llevar el código de este notebook a un archivo.py:\n",
        "- Leer el dataset\n",
        "- Separar en X e y\n",
        "- Instanciar un modelo random forest\n",
        "- Entrenar el modelo\n",
        "\n",
        "13. Una vez que tenemos el modelo entrenado, podemos persistir el mismo (guardarlo entrenado). Hay distintas formas de hacerlo, una muy común es utilizando pickle. El siguiente artículo puede ser de ayuda:https://machinelearningmastery.com/save-load-machine-learning-models-python-scikit-learn/\n",
        "\n",
        "Guardar el modelo entrenado en el directorio \"ml\".\n",
        "\n",
        "El script de entrenamiento del modelo debería verse algo así:\n",
        "\n",
        "```\n",
        "import pandas as pd\n",
        "from sklearn.ensemble import RandomForestClassifier\n",
        "import os\n",
        "import pickle\n",
        "\n",
        "df = pd.read_csv(f\"{os.getcwd()}/data/iris.csv\")\n",
        "\n",
        "X = df.drop(\"variety\", axis=1).values.copy()\n",
        "y = df.variety.copy()\n",
        "\n",
        "clf = RandomForestClassifier(max_depth=2)\n",
        "\n",
        "clf.fit(X, y)\n",
        "\n",
        "pickle.dump(clf, open(f\"{os.getcwd()}/ml/model.pkl\", 'wb'))\n",
        "```\n",
        "\n",
        "\n",
        "14. Agregar un nuevo archivo en el directorio \"ml\" que se llame \"predict.py\". Este archivo debe tener una función que se llame \"predict(data)\" y reciba \"data\" para generar predicciones. Acá vamos a necesitar usar el modelo previamente entrenado.\n",
        "\n",
        "Además, para practicar, vamos a hacer que el script tome como parámetro un argumento que nos diga donde estan los datos.\n",
        "\n",
        "Podemos pasar el argumento de la siguiente forma:\n",
        "\n",
        "`python ./ml/predict.py /data/iris.csv`\n",
        "\n",
        "\n",
        "El script para generar predicciones, debería ser algo como esto (con varias cosas por mejorar):\n",
        "\n",
        "\n",
        "```\n",
        "import pickle\n",
        "import sys\n",
        "import pandas as pd\n",
        "import os\n",
        "\n",
        "\n",
        "def predict(data):\n",
        "    model = pickle.load(open(f\"{os.getcwd()}/ml/model.pkl\", 'rb'))\n",
        "    preds = model.predict(data)\n",
        "    preds = pd.DataFrame(preds)\n",
        "    preds.to_csv(f\"{os.getcwd()}/data/predictions.csv\")\n",
        "\n",
        "\n",
        "if __name__ == '__main__':\n",
        "    data_dir = sys.argv[1]\n",
        "    data = pd.read_csv(f\"{os.getcwd()}{data_dir}\")\n",
        "    data = data[[\"sepal.length\", \"sepal.width\",  \"petal.length\",  \"petal.width\"]].values\n",
        "    predict(data)\n",
        "```\n",
        "\n",
        "if __name__ == '__main__':\n",
        "\n",
        "Este bloque de código se va a ejecutar siempre que ejecutemos nuestro script de python directamente desde la terminal. Si llamamos a nuestro script desde otro módulo, no se ejecutará.\n",
        "\n",
        "\n",
        "\n",
        "\n",
        "\n",
        "\n",
        "\n",
        "\n",
        "\n"
      ]
    },
    {
      "cell_type": "markdown",
      "metadata": {},
      "source": []
    }
  ],
  "metadata": {
    "colab": {
      "collapsed_sections": [],
      "name": "modelo_simple.ipynb",
      "provenance": []
    },
    "kernelspec": {
      "display_name": "Python 3",
      "name": "python3"
    },
    "language_info": {
      "name": "python"
    }
  },
  "nbformat": 4,
  "nbformat_minor": 0
}
